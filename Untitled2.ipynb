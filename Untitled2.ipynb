{
  "nbformat": 4,
  "nbformat_minor": 0,
  "metadata": {
    "colab": {
      "private_outputs": true,
      "provenance": [],
      "authorship_tag": "ABX9TyMTnz+mx9t0kw+Nr6t+C2Kr",
      "include_colab_link": true
    },
    "kernelspec": {
      "name": "python3",
      "display_name": "Python 3"
    },
    "language_info": {
      "name": "python"
    }
  },
  "cells": [
    {
      "cell_type": "markdown",
      "metadata": {
        "id": "view-in-github",
        "colab_type": "text"
      },
      "source": [
        "<a href=\"https://colab.research.google.com/github/Souzadfs/Data-Science-Course/blob/main/Untitled2.ipynb\" target=\"_parent\"><img src=\"https://colab.research.google.com/assets/colab-badge.svg\" alt=\"Open In Colab\"/></a>"
      ]
    },
    {
      "cell_type": "code",
      "execution_count": null,
      "metadata": {
        "id": "NVqdrEir6k6z"
      },
      "outputs": [],
      "source": [
        "import pandas as pd\n",
        "import matplotlib.pyplot as plt"
      ]
    },
    {
      "cell_type": "code",
      "source": [
        "df = pd.read_excel('Leitura_de_Gases.xlsx')"
      ],
      "metadata": {
        "id": "HCtmes_D6pCr"
      },
      "execution_count": null,
      "outputs": []
    },
    {
      "cell_type": "code",
      "source": [
        "df.head()"
      ],
      "metadata": {
        "id": "v5icSZfw6pTe"
      },
      "execution_count": null,
      "outputs": []
    },
    {
      "cell_type": "code",
      "source": [
        "df['Data'] = pd.to_datetime(df['Data'])\n",
        "df['Hora'] = pd.to_datetime(df['Hora'], format='%H:%M:%S').dt.time"
      ],
      "metadata": {
        "id": "CRDNlsvM-J8C"
      },
      "execution_count": null,
      "outputs": []
    },
    {
      "cell_type": "code",
      "source": [
        "data = df['Data']\n",
        "hora = df['Hora']"
      ],
      "metadata": {
        "id": "T2Brt4-f-J_X"
      },
      "execution_count": null,
      "outputs": []
    },
    {
      "cell_type": "code",
      "source": [
        "df.sort_values(by=['Data', 'Hora'], inplace=True)"
      ],
      "metadata": {
        "id": "vRrD-5HG_g_p"
      },
      "execution_count": null,
      "outputs": []
    },
    {
      "cell_type": "code",
      "source": [
        "df['LED_Anterior'] = df['LED'].shift(1)\n",
        "df['Mudanca_LED'] = df['LED'] != df['LED_Anterior']"
      ],
      "metadata": {
        "id": "kmoSYSE6_hUG"
      },
      "execution_count": null,
      "outputs": []
    },
    {
      "cell_type": "code",
      "source": [
        "verde_para_amarelo = df[(df['LED_Anterior'] == 'Verde') & (df['LED'] == 'Amarelo')]\n",
        "verde_para_amarelo['Tempo_Verde_para_Amarelo'] = verde_para_amarelo['Data'] - verde_para_amarelo['Data'].shift(1)"
      ],
      "metadata": {
        "id": "eb2R_9mE6pWD"
      },
      "execution_count": null,
      "outputs": []
    },
    {
      "cell_type": "code",
      "source": [
        "amarelo_para_verde = df[(df['LED_Anterior'] == 'Amarelo') & (df['LED'] == 'Verde')]\n",
        "amarelo_para_verde['Tempo_Amarelo_para_Verde'] = amarelo_para_verde['Data'] - amarelo_para_verde['Data'].shift(1)"
      ],
      "metadata": {
        "id": "Cs6NP3Z3BOlv"
      },
      "execution_count": null,
      "outputs": []
    },
    {
      "cell_type": "code",
      "source": [
        "plt.figure(figsize=(10, 6))\n",
        "plt.hist(verde_para_amarelo['Tempo_Verde_para_Amarelo'].dt.seconds / 60, bins=20, color='green', alpha=0.5, label='Verde para Amarelo')\n",
        "plt.hist(amarelo_para_verde['Tempo_Amarelo_para_Verde'].dt.seconds / 60, bins=20, color='yellow', alpha=0.5, label='Amarelo para Verde')\n",
        "plt.xlabel('Tempo de Permanência (minutos)')\n",
        "plt.ylabel('Frequência')\n",
        "plt.title('Permanência de Tempo no Status Verde e Amarelo')\n",
        "plt.legend()\n",
        "plt.grid(True)\n",
        "plt.show()"
      ],
      "metadata": {
        "id": "u1dCIPE6BOp_"
      },
      "execution_count": null,
      "outputs": []
    },
    {
      "cell_type": "code",
      "source": [
        "plt.figure(figsize=(10, 6))\n",
        "\n",
        "# Plotar histograma para o tempo de permanência no status Verde para Amarelo\n",
        "plt.hist(verde_para_amarelo['Tempo_Verde_para_Amarelo'].dt.seconds / 60, bins=20, color='green', alpha=0.5, label='Verde para Amarelo', align='mid')\n",
        "\n",
        "# Plotar histograma para o tempo de permanência no status Amarelo para Verde\n",
        "plt.hist(amarelo_para_verde['Tempo_Amarelo_para_Verde'].dt.seconds / 60, bins=20, color='yellow', alpha=0.5, label='Amarelo para Verde', align='mid')\n",
        "\n",
        "plt.xlabel('Tempo de Permanência (minutos)')\n",
        "plt.ylabel('Frequência')\n",
        "plt.title('Permanência de Tempo no Status Verde e Amarelo')\n",
        "plt.legend()\n",
        "plt.grid(True)\n",
        "plt.show()\n"
      ],
      "metadata": {
        "id": "A_gCyP9kEnsh"
      },
      "execution_count": null,
      "outputs": []
    },
    {
      "cell_type": "code",
      "source": [
        "import numpy as np\n",
        "import matplotlib.pyplot as plt\n",
        "\n",
        "# Dados de exemplo\n",
        "categorias = ['Verde para Amarelo', 'Amarelo para Verde']\n",
        "tempo_verde_para_amarelo = verde_para_amarelo['Tempo_Verde_para_Amarelo'].dt.seconds / 60\n",
        "tempo_amarelo_para_verde = amarelo_para_verde['Tempo_Amarelo_para_Verde'].dt.seconds / 60\n",
        "\n",
        "# Definindo a largura das barras\n",
        "largura_barra = 0.35\n",
        "indice = np.arange(len(categorias))\n",
        "\n",
        "# Criando os subplots\n",
        "fig, ax = plt.subplots(figsize=(10, 6))\n",
        "\n",
        "# Plotando as barras\n",
        "bar1 = ax.bar(indice, tempo_verde_para_amarelo, largura_barra, label='Verde para Amarelo', color='green')\n",
        "bar2 = ax.bar(indice + largura_barra, tempo_amarelo_para_verde, largura_barra, label='Amarelo para Verde', color='yellow')\n",
        "\n",
        "# Adicionando rótulos, título e legenda\n",
        "ax.set_xlabel('Status')\n",
        "ax.set_ylabel('Tempo de Permanência (minutos)')\n",
        "ax.set_title('Tempo de Permanência no Status Verde e Amarelo')\n",
        "ax.set_xticks(indice + largura_barra / 2)\n",
        "ax.set_xticklabels(categorias)\n",
        "ax.legend()\n",
        "\n",
        "# Exibindo o gráfico\n",
        "plt.grid(True)\n",
        "plt.show()\n"
      ],
      "metadata": {
        "id": "V9TdTelfDW-3"
      },
      "execution_count": null,
      "outputs": []
    }
  ]
}