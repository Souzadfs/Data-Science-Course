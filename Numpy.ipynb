{
  "nbformat": 4,
  "nbformat_minor": 0,
  "metadata": {
    "colab": {
      "private_outputs": true,
      "provenance": [],
      "authorship_tag": "ABX9TyN/rvszcrq8XH8Ik8A0UluP",
      "include_colab_link": true
    },
    "kernelspec": {
      "name": "python3",
      "display_name": "Python 3"
    },
    "language_info": {
      "name": "python"
    }
  },
  "cells": [
    {
      "cell_type": "markdown",
      "metadata": {
        "id": "view-in-github",
        "colab_type": "text"
      },
      "source": [
        "<a href=\"https://colab.research.google.com/github/Souzadfs/Data-Science-Course/blob/main/Numpy.ipynb\" target=\"_parent\"><img src=\"https://colab.research.google.com/assets/colab-badge.svg\" alt=\"Open In Colab\"/></a>"
      ]
    },
    {
      "cell_type": "code",
      "execution_count": null,
      "metadata": {
        "id": "kYwk02Ch_CJP"
      },
      "outputs": [],
      "source": [
        "import numpy as np\n",
        "import pandas as pd"
      ]
    },
    {
      "cell_type": "code",
      "source": [
        "sl=pd.Series([1,2.3,3,-5,0],index=['x','y','v','z','b'])"
      ],
      "metadata": {
        "id": "T5xTf4aLUU2_"
      },
      "execution_count": null,
      "outputs": []
    },
    {
      "cell_type": "code",
      "source": [],
      "metadata": {
        "id": "KUW_TnI5U9Sj"
      },
      "execution_count": null,
      "outputs": []
    },
    {
      "cell_type": "code",
      "source": [
        "sl=pd.Series([1,2.3,-5,0],index=['x','y','v','z',])\n",
        "print(sl)"
      ],
      "metadata": {
        "id": "HfslK7LvU9jb"
      },
      "execution_count": null,
      "outputs": []
    },
    {
      "cell_type": "markdown",
      "source": [
        " Criar uma matriz unidimensional"
      ],
      "metadata": {
        "id": "t1_Nb9arDCLV"
      }
    },
    {
      "cell_type": "code",
      "source": [
        "mt = np.array ([11,12,13,14,15])\n",
        "print(mt)\n",
        "type(mt)"
      ],
      "metadata": {
        "id": "sYfEPcfsC9Lg"
      },
      "execution_count": null,
      "outputs": []
    },
    {
      "cell_type": "code",
      "source": [
        "#Create array with a specific type\n",
        "#Create array as float of 64 bits\n",
        "\n",
        "mtfloat = np.array([1,2,3,4,5,6], dtype = np.float64)\n",
        "print(mtfloat)\n",
        "print(type(mtfloat))\n",
        "\n",
        "mtint = np.array([1,2,3,4,5,6], dtype = np.int32)\n",
        "print(mtint)\n",
        "print(type(mtint))\n"
      ],
      "metadata": {
        "id": "-fGWzvnpC9O7"
      },
      "execution_count": null,
      "outputs": []
    },
    {
      "cell_type": "code",
      "source": [
        "#Change type of array for int\n",
        "\n",
        "mt01 = np.array([1.222,3.4222,1.243,45.2425])\n",
        "print(mt01)\n",
        "mt02 = mt01.astype(np.int32)\n",
        "print(mt02)"
      ],
      "metadata": {
        "id": "G--gYWpFC9Q5"
      },
      "execution_count": null,
      "outputs": []
    },
    {
      "cell_type": "code",
      "source": [
        "#Change type of array for float\n",
        "\n",
        "mt03 = np.array([1,2,3,4,5,66])\n",
        "print(mt03)\n",
        "mt04 = mt03.astype(np.float64)\n",
        "print(mt04)"
      ],
      "metadata": {
        "id": "DifPOhChC9Tl"
      },
      "execution_count": null,
      "outputs": []
    },
    {
      "cell_type": "code",
      "source": [
        "# More than one dimensional\n",
        "# Created a two-bidimensional array\n",
        "\n",
        "mt05 = np.array([[1,2,3,4],[4,3,2,1],[9,8,8,7]])\n",
        "print(mt05)"
      ],
      "metadata": {
        "id": "q23OEfjlC9WN"
      },
      "execution_count": null,
      "outputs": []
    },
    {
      "cell_type": "code",
      "source": [
        "#Create a array typifield\n",
        "\n",
        "vazio = np.empty([3,2], dtype = int)\n",
        "print(vazio)\n",
        "print('---------------------------------------------')\n",
        "\n",
        "# Create a array (4 x 3) with value zero\n",
        "\n",
        "zero = np.zeros([4,3])\n",
        "print(zero)\n",
        "print(\"----------------------------------------------\")\n",
        "\n",
        "#Create a array (5 x 7) with value one\n",
        "one = np.ones([5,7])\n",
        "print(one)\n",
        "\n",
        "diagonal = np.eye(5)\n",
        "print(diagonal)\n"
      ],
      "metadata": {
        "id": "xUToUqjqC9Yv"
      },
      "execution_count": null,
      "outputs": []
    },
    {
      "cell_type": "code",
      "source": [
        "#Random values betwen um and zero\n",
        "\n",
        "ale = np.random.random((5))\n",
        "print(ale)\n",
        "\n",
        "print('---------------------')\n",
        "\n",
        "ale2 = np.random.randn((5))\n",
        "print(ale2)\n",
        "\n",
        "print('------------------------')\n",
        "\n",
        "ale3 = (10*np.random.random((3,4)))\n",
        "print(ale3)"
      ],
      "metadata": {
        "id": "XzEdPuOWC9d5"
      },
      "execution_count": null,
      "outputs": []
    },
    {
      "cell_type": "code",
      "source": [
        "#Others form to create a random array\n",
        "\n",
        "grn = np.random.default_rng(1)\n",
        "print(1)\n",
        "ale4 = grn.random(3)\n",
        "print(ale4)\n",
        "\n",
        "\n",
        "# Create integers numbers\n",
        "\n",
        "ale5 = grn.integers(10, size=(3,4))\n",
        "print(ale5)"
      ],
      "metadata": {
        "id": "oTXprJztC9go"
      },
      "execution_count": null,
      "outputs": []
    },
    {
      "cell_type": "code",
      "source": [
        "#Remove repetitions\n",
        "\n",
        "j = np.array([1,1,2,2,3,4,5,6,7,8,8,9,8,10,11,12,13,14,15,16,16,17,17,18,19])\n",
        "print(j)\n",
        "j = np.unique(j)\n",
        "print(j)"
      ],
      "metadata": {
        "id": "977a_fA5C9ja"
      },
      "execution_count": null,
      "outputs": []
    },
    {
      "cell_type": "code",
      "source": [
        "k = np.array([[1,2,3,4],[2,4,5,1],[5,100,7,8]])\n",
        "print(k)\n",
        "print(k[2][3])\n",
        "print(k.shape)"
      ],
      "metadata": {
        "id": "JhoGQENFC9mD"
      },
      "execution_count": null,
      "outputs": []
    },
    {
      "cell_type": "code",
      "source": [
        "#Mathematical functions\n",
        "print(k.max())\n",
        "print(k.min())\n",
        "print(k.sum())\n",
        "print(k.mean())\n",
        "print(k.std())"
      ],
      "metadata": {
        "id": "sLE8RWAVC9o5"
      },
      "execution_count": null,
      "outputs": []
    },
    {
      "cell_type": "code",
      "source": [],
      "metadata": {
        "id": "d41UPA2ikBrt"
      },
      "execution_count": null,
      "outputs": []
    },
    {
      "cell_type": "code",
      "source": [],
      "metadata": {
        "id": "OaqrNiKS6hzw"
      },
      "execution_count": null,
      "outputs": []
    },
    {
      "cell_type": "code",
      "source": [
        "k1 = np.array([1,12,20,30,45])\n",
        "\n",
        "print(np.sqrt(k1))\n",
        "\n",
        "print(np.exp(k1))"
      ],
      "metadata": {
        "id": "qqWPny75C9rk"
      },
      "execution_count": null,
      "outputs": []
    },
    {
      "cell_type": "code",
      "source": [
        "elem = np.array([[1,2,4,5],[3,4,5,3],[6,7,8,9],[3,5,2,5]])\n",
        "print(elem)\n",
        "print('------------')\n",
        "\n",
        "linha00 = elem[0,:]\n",
        "print(linha00)\n",
        "print('------------')\n",
        "\n",
        "linha01 = elem[1, :]\n",
        "print(linha01)\n",
        "print('------------')\n",
        "\n",
        "linha02 = elem[2,:]\n",
        "print(linha02)\n",
        "print('------------')\n",
        "\n",
        "linha03 = elem[3,:]\n",
        "print(linha03)\n",
        "print('------------')\n",
        "print(elem.shape)"
      ],
      "metadata": {
        "id": "eFTCWCCOC9ua"
      },
      "execution_count": null,
      "outputs": []
    },
    {
      "cell_type": "code",
      "source": [
        "colum00 = elem[:,0]\n",
        "print(colum00)\n",
        "print('------------')\n",
        "\n",
        "colum01 = elem[:,1]\n",
        "print(colum01)\n",
        "print('------------')\n",
        "\n",
        "colum02 = elem[:,2]\n",
        "print(colum02)\n",
        "print('------------')\n",
        "\n",
        "colum03 = elem[:,3]\n",
        "print(colum03)\n",
        "print('------------')"
      ],
      "metadata": {
        "id": "BqomLgBHC9w3"
      },
      "execution_count": null,
      "outputs": []
    },
    {
      "cell_type": "code",
      "source": [
        "n = np.array([[1,2],[3,4]])\n",
        "o = np.array([[9,7],[4,5]])\n",
        "c = n+o\n",
        "print(c)\n",
        "\n",
        "print('---------')\n",
        "\n",
        "c2 = n*o\n",
        "print(c2)\n",
        "\n",
        "print('---------')\n",
        "\n",
        "p = np.array([[1,2,3],[3,6,7],[2,3,9]])\n",
        "q = np.array([[5,6,3]])\n",
        "print(p+q)"
      ],
      "metadata": {
        "id": "2zehG8QdC9zk"
      },
      "execution_count": null,
      "outputs": []
    },
    {
      "cell_type": "code",
      "source": [
        "import matplotlib.pyplot as plt\n",
        "import numpy as np\n",
        "\n",
        "# Gerar valores de x, evitando x=0 para evitar divisão por zero\n",
        "x = np.linspace(-1, 1, 400)\n",
        "x = x[x != 0]\n",
        "\n",
        "# Calcular valores de y para a função dada\n",
        "y = 1 / x\n",
        "\n",
        "# Criar a figura e os eixos\n",
        "plt.figure(figsize=(8, 6))\n",
        "\n",
        "# Plotar a função\n",
        "plt.plot(x, y, label=r'$\\frac{1}{x}$')\n",
        "\n",
        "# Adicionar título e legendas\n",
        "plt.title(r'Gráfico da função $\\frac{1}{x}$')\n",
        "plt.xlabel('x')\n",
        "plt.ylabel('y')\n",
        "plt.axhline(0, color='black', linewidth=0.5)\n",
        "plt.axvline(0, color='black', linewidth=0.5)\n",
        "plt.grid(color='gray', linestyle='--', linewidth=0.5)\n",
        "plt.legend()\n",
        "\n",
        "# Mostrar o gráfico\n",
        "plt.ylim(-10, 10)  # Limitar o eixo y para uma melhor visualização\n",
        "plt.show()\n"
      ],
      "metadata": {
        "id": "GOiZEdn_C92P"
      },
      "execution_count": null,
      "outputs": []
    },
    {
      "cell_type": "code",
      "source": [
        "# Números sorteados\n",
        "resultado = {3, 4, 5, 6, 10, 12, 13, 15, 16, 18, 19, 21, 22, 23, 25}\n",
        "\n",
        "# Jogos da imagem (convertidos manualmente linha por linha)\n",
        "jogos = [\n",
        "    {1, 2, 3, 6, 8, 9, 10, 13, 17, 18, 19, 20, 21, 24, 25},\n",
        "    {2, 3, 5, 6, 8, 9, 10, 12, 13, 18, 19, 20, 22, 24, 25},\n",
        "    {1, 2, 3, 5, 6, 9, 12, 13, 17, 18, 19, 20, 21, 24, 25},\n",
        "    {1, 2, 3, 6, 9, 10, 13, 14, 17, 18, 19, 20, 22, 24, 25},\n",
        "    {2, 3, 6, 9, 10, 12, 13, 14, 17, 18, 19, 20, 21, 24, 25},\n",
        "    {2, 3, 6, 8, 9, 12, 13, 14, 17, 18, 19, 20, 22, 24, 25},\n",
        "    {1, 2, 3, 5, 6, 8, 9, 10, 13, 14, 18, 19, 20, 24, 25},\n",
        "    {1, 2, 3, 6, 9, 12, 13, 14, 18, 19, 20, 21, 22, 24, 25},\n",
        "    {2, 3, 5, 6, 8, 9, 13, 14, 18, 19, 20, 21, 22, 24, 25},\n",
        "    {1, 2, 3, 5, 6, 9, 13, 17, 18, 19, 20, 21, 22, 24, 25},\n",
        "    {1, 4, 5, 6, 8, 12, 13, 17, 18, 19, 20, 21, 22, 24, 25},\n",
        "    {3, 4, 5, 6, 8, 10, 11, 13, 18, 19, 20, 21, 22, 24, 25},\n",
        "    {1, 4, 5, 6, 10, 11, 12, 13, 17, 18, 19, 20, 21, 24, 25},\n",
        "    {1, 3, 4, 5, 6, 9, 12, 13, 18, 19, 20, 21, 22, 24, 25},\n",
        "    {4, 5, 6, 9, 11, 12, 13, 17, 18, 19, 20, 21, 22, 24, 25},\n",
        "    {3, 4, 5, 6, 8, 9, 11, 12, 13, 18, 19, 20, 21, 24, 25},\n",
        "    {1, 4, 5, 6, 8, 9, 10, 13, 18, 19, 20, 21, 22, 24, 25},\n",
        "    {1, 3, 4, 5, 6, 9, 10, 13, 17, 18, 19, 20, 21, 24, 25},\n",
        "    {3, 4, 5, 6, 8, 9, 10, 13, 17, 18, 19, 20, 21, 24, 25},\n",
        "    {1, 3, 4, 5, 6, 10, 12, 13, 17, 18, 19, 20, 21, 24, 25}\n",
        "]\n",
        "\n",
        "# Conferir linha por linha e contar o número de acertos\n",
        "acertos = [len(jogo & resultado) for jogo in jogos]\n",
        "acertos"
      ],
      "metadata": {
        "id": "8XXCIa8UC940"
      },
      "execution_count": null,
      "outputs": []
    },
    {
      "cell_type": "code",
      "source": [
        "acertos = [len(jogo & resultado) for jogo in jogos]\n",
        "acertos"
      ],
      "metadata": {
        "id": "iR0GVW64C973"
      },
      "execution_count": null,
      "outputs": []
    },
    {
      "cell_type": "code",
      "source": [],
      "metadata": {
        "id": "GwxnuUOGC9-l"
      },
      "execution_count": null,
      "outputs": []
    },
    {
      "cell_type": "code",
      "source": [],
      "metadata": {
        "id": "sOGclNqNC-Ba"
      },
      "execution_count": null,
      "outputs": []
    },
    {
      "cell_type": "code",
      "source": [],
      "metadata": {
        "id": "qWW7l4R0C-EF"
      },
      "execution_count": null,
      "outputs": []
    },
    {
      "cell_type": "code",
      "source": [],
      "metadata": {
        "id": "P12ke5KNC-G7"
      },
      "execution_count": null,
      "outputs": []
    },
    {
      "cell_type": "code",
      "source": [],
      "metadata": {
        "id": "UqWXhjanC-Jw"
      },
      "execution_count": null,
      "outputs": []
    },
    {
      "cell_type": "code",
      "source": [],
      "metadata": {
        "id": "yeSJNy7sC-MI"
      },
      "execution_count": null,
      "outputs": []
    },
    {
      "cell_type": "code",
      "source": [],
      "metadata": {
        "id": "vWMtlL5uC-QO"
      },
      "execution_count": null,
      "outputs": []
    }
  ]
}