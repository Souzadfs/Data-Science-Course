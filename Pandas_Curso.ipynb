{
  "nbformat": 4,
  "nbformat_minor": 0,
  "metadata": {
    "colab": {
      "private_outputs": true,
      "provenance": [],
      "authorship_tag": "ABX9TyNMlyeMrfF8AuQqdikILf34",
      "include_colab_link": true
    },
    "kernelspec": {
      "name": "python3",
      "display_name": "Python 3"
    },
    "language_info": {
      "name": "python"
    }
  },
  "cells": [
    {
      "cell_type": "markdown",
      "metadata": {
        "id": "view-in-github",
        "colab_type": "text"
      },
      "source": [
        "<a href=\"https://colab.research.google.com/github/Souzadfs/Data-Science-Course/blob/main/Pandas_Curso.ipynb\" target=\"_parent\"><img src=\"https://colab.research.google.com/assets/colab-badge.svg\" alt=\"Open In Colab\"/></a>"
      ]
    },
    {
      "cell_type": "code",
      "execution_count": null,
      "metadata": {
        "id": "x5ZK_toNUxSM"
      },
      "outputs": [],
      "source": [
        "import pandas as pd"
      ]
    },
    {
      "cell_type": "code",
      "source": [
        "dados = \"Credit.csv\""
      ],
      "metadata": {
        "id": "5F-KD0YeZLkx"
      },
      "execution_count": null,
      "outputs": []
    },
    {
      "cell_type": "code",
      "source": [
        "df = pd.read_csv(dados)\n",
        "df.shape"
      ],
      "metadata": {
        "id": "eJSiz3MTWVt0"
      },
      "execution_count": null,
      "outputs": []
    },
    {
      "cell_type": "code",
      "source": [
        "df.describe()"
      ],
      "metadata": {
        "id": "jJnOTYKHWVwG"
      },
      "execution_count": null,
      "outputs": []
    },
    {
      "cell_type": "code",
      "source": [
        "df.head()"
      ],
      "metadata": {
        "id": "iQprRasOWVy2"
      },
      "execution_count": null,
      "outputs": []
    },
    {
      "cell_type": "code",
      "source": [
        "df.tail(4)"
      ],
      "metadata": {
        "id": "JLrl3WOKWV1B"
      },
      "execution_count": null,
      "outputs": []
    },
    {
      "cell_type": "code",
      "source": [
        "df[[\"credit_amount\"]]"
      ],
      "metadata": {
        "id": "ABl229STWV3m"
      },
      "execution_count": null,
      "outputs": []
    },
    {
      "cell_type": "code",
      "source": [
        "df.loc[[3,4]]"
      ],
      "metadata": {
        "id": "21J7G0zEWV6A"
      },
      "execution_count": null,
      "outputs": []
    },
    {
      "cell_type": "code",
      "source": [
        "df.loc[df['purpose'] == \"radio/tv\" ]"
      ],
      "metadata": {
        "id": "JlbHoh7OWV8P"
      },
      "execution_count": null,
      "outputs": []
    },
    {
      "cell_type": "code",
      "source": [
        "df.loc[df['credit_amount'] > 18000 ]"
      ],
      "metadata": {
        "id": "t0VG1K-sWWAz"
      },
      "execution_count": null,
      "outputs": []
    },
    {
      "cell_type": "code",
      "source": [
        "credit2 = df.loc[df['credit_amount'] > 18000]\n",
        "print(credit2)"
      ],
      "metadata": {
        "id": "oqV1TycLft3H"
      },
      "execution_count": null,
      "outputs": []
    },
    {
      "cell_type": "code",
      "source": [
        "credit3 = df[['duration','credit_history']].loc[df ['credit_amount'] > 18000 ]\n",
        "print(credit3)"
      ],
      "metadata": {
        "id": "wTy7thF2ft4p"
      },
      "execution_count": null,
      "outputs": []
    },
    {
      "cell_type": "code",
      "source": [
        "import numpy as np\n",
        "s1 = pd.array([2,3,4,5,7,35,24,67,89])\n",
        "print(s1)"
      ],
      "metadata": {
        "id": "N9lAI_Lpft7R"
      },
      "execution_count": null,
      "outputs": []
    },
    {
      "cell_type": "code",
      "source": [
        "s2 = np.array([2,3,4,5,7,35,24,67,89])\n",
        "s3 = pd.Series(s2)\n",
        "print(s3)"
      ],
      "metadata": {
        "id": "k7XdZJGRft93"
      },
      "execution_count": null,
      "outputs": []
    },
    {
      "cell_type": "code",
      "source": [
        "s4 = df['purpose']\n",
        "print(s4)"
      ],
      "metadata": {
        "id": "FA07BCIJfuAi"
      },
      "execution_count": null,
      "outputs": []
    },
    {
      "cell_type": "code",
      "source": [
        "s5 = df[['purpose']]\n",
        "print(s5)\n",
        "type(s5)"
      ],
      "metadata": {
        "id": "_VmRk-yEfuCs"
      },
      "execution_count": null,
      "outputs": []
    },
    {
      "cell_type": "code",
      "source": [
        "df.head(1)"
      ],
      "metadata": {
        "id": "6SyZVGw6lfXb"
      },
      "execution_count": null,
      "outputs": []
    },
    {
      "cell_type": "code",
      "source": [
        "df.rename(columns={'duration':'duração','purpose':'proposito'},inplace=True)"
      ],
      "metadata": {
        "id": "X8M5bK-afuJW"
      },
      "execution_count": null,
      "outputs": []
    },
    {
      "cell_type": "code",
      "source": [
        "df.head(1)"
      ],
      "metadata": {
        "id": "2fJlp42jfuMB"
      },
      "execution_count": null,
      "outputs": []
    },
    {
      "cell_type": "code",
      "source": [
        "df.drop('checking_status', axis=1,inplace=True)"
      ],
      "metadata": {
        "id": "peK9FJuUfuOU"
      },
      "execution_count": null,
      "outputs": []
    },
    {
      "cell_type": "code",
      "source": [
        "df.head(1)"
      ],
      "metadata": {
        "id": "5dgTy3IDfuQ1"
      },
      "execution_count": null,
      "outputs": []
    },
    {
      "cell_type": "code",
      "source": [
        "df.isnull()"
      ],
      "metadata": {
        "id": "f8N7fOSCmmUs"
      },
      "execution_count": null,
      "outputs": []
    },
    {
      "cell_type": "code",
      "source": [
        "df.isnull(). sum()"
      ],
      "metadata": {
        "id": "bdZlVz_jmmeV"
      },
      "execution_count": null,
      "outputs": []
    },
    {
      "cell_type": "code",
      "source": [
        "df['duração'].fillna(0)"
      ],
      "metadata": {
        "id": "JcF0AkmZnNYx"
      },
      "execution_count": null,
      "outputs": []
    },
    {
      "cell_type": "code",
      "source": [
        "df.iloc[0:5,0:9]"
      ],
      "metadata": {
        "id": "2JiwyfqWfuU4"
      },
      "execution_count": null,
      "outputs": []
    },
    {
      "cell_type": "code",
      "source": [
        "df.iloc[[4,6,8],0:9]"
      ],
      "metadata": {
        "id": "h_FhipOcnNbr"
      },
      "execution_count": null,
      "outputs": []
    },
    {
      "cell_type": "code",
      "source": [
        "df.head(1)"
      ],
      "metadata": {
        "id": "KXCwTY7MoDoN"
      },
      "execution_count": null,
      "outputs": []
    }
  ]
}