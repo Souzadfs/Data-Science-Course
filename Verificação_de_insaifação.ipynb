{
  "nbformat": 4,
  "nbformat_minor": 0,
  "metadata": {
    "colab": {
      "private_outputs": true,
      "provenance": [],
      "authorship_tag": "ABX9TyNGqcHuhotyoTr0FYKF0VOj",
      "include_colab_link": true
    },
    "kernelspec": {
      "name": "python3",
      "display_name": "Python 3"
    },
    "language_info": {
      "name": "python"
    }
  },
  "cells": [
    {
      "cell_type": "markdown",
      "metadata": {
        "id": "view-in-github",
        "colab_type": "text"
      },
      "source": [
        "<a href=\"https://colab.research.google.com/github/Souzadfs/Data-Science-Course/blob/main/Verifica%C3%A7%C3%A3o_de_insaifa%C3%A7%C3%A3o.ipynb\" target=\"_parent\"><img src=\"https://colab.research.google.com/assets/colab-badge.svg\" alt=\"Open In Colab\"/></a>"
      ]
    },
    {
      "cell_type": "code",
      "execution_count": null,
      "metadata": {
        "id": "xjGPIu-H7Wy_"
      },
      "outputs": [],
      "source": [
        "import pandas as pd\n",
        "from scipy import stats"
      ]
    },
    {
      "cell_type": "code",
      "source": [],
      "metadata": {
        "id": "A-LmkDYj7j34"
      },
      "execution_count": null,
      "outputs": []
    },
    {
      "cell_type": "code",
      "source": [
        "df = pd.read_csv('HR-Employee-Attrition.csv')"
      ],
      "metadata": {
        "id": "l07Dsc817Xmw"
      },
      "execution_count": null,
      "outputs": []
    },
    {
      "cell_type": "code",
      "source": [
        "df.head()"
      ],
      "metadata": {
        "id": "Q6pMRK9h7Xs9"
      },
      "execution_count": null,
      "outputs": []
    },
    {
      "cell_type": "code",
      "source": [
        "# Para o propósito deste exemplo, vamos criar um DataFrame a partir dos dados fornecidos:\n",
        "data = {\n",
        "    'Age': [41, 49, 37, 33, 27],\n",
        "    'Attrition': ['Yes', 'No', 'Yes', 'No', 'No'],\n",
        "    'BusinessTravel': ['Travel_Rarely', 'Travel_Frequently', 'Travel_Rarely', 'Travel_Frequently', 'Travel_Rarely'],\n",
        "    'DailyRate': [1102, 279, 1373, 1392, 591],\n",
        "    'Department': ['Sales', 'Research & Development', 'Research & Development', 'Research & Development', 'Research & Development'],\n",
        "    'DistanceFromHome': [1, 8, 2, 3, 2],\n",
        "    'Education': [2, 1, 2, 4, 1],\n",
        "    'EducationField': ['Life Sciences', 'Life Sciences', 'Other', 'Life Sciences', 'Medical'],\n",
        "    'EmployeeCount': [1, 1, 1, 1, 1],\n",
        "    'EmployeeNumber': [1, 2, 4, 5, 7],\n",
        "    'RelationshipSatisfaction': [1, 4, 2, 3, 4]\n",
        "    # Outras colunas são omitidas para simplificação\n",
        "}\n"
      ],
      "metadata": {
        "id": "6WSVeN477Xvb"
      },
      "execution_count": null,
      "outputs": []
    },
    {
      "cell_type": "code",
      "source": [
        "df = pd.DataFrame(data)\n",
        "\n",
        "# Verificar se há valores ausentes nas colunas relevantes\n",
        "print(df[['Department', 'RelationshipSatisfaction']].isnull().sum())"
      ],
      "metadata": {
        "id": "8TAtbke17Xyf"
      },
      "execution_count": null,
      "outputs": []
    },
    {
      "cell_type": "code",
      "source": [
        "# Realizar o teste ANOVA\n",
        "departments = df['Department'].unique()\n",
        "satisfaction_scores = [df[df['Department'] == dept]['RelationshipSatisfaction'] for dept in departments]"
      ],
      "metadata": {
        "id": "TckvL7id7X1J"
      },
      "execution_count": null,
      "outputs": []
    },
    {
      "cell_type": "code",
      "source": [
        "f_val, p_val = stats.f_oneway(*satisfaction_scores)\n",
        "\n",
        "print('F-value:', f_val)\n",
        "print('P-value:', p_val)\n"
      ],
      "metadata": {
        "id": "5tRgkUEJ7X3v"
      },
      "execution_count": null,
      "outputs": []
    },
    {
      "cell_type": "code",
      "source": [
        "if p_val < 0.05:\n",
        "    print(\"Há uma diferença significativa na satisfação entre os diferentes departamentos.\")\n",
        "else:\n",
        "    print(\"Não há uma diferença significativa na satisfação entre os diferentes departamentos.\")"
      ],
      "metadata": {
        "id": "5S1689-H7X6o"
      },
      "execution_count": null,
      "outputs": []
    },
    {
      "cell_type": "code",
      "source": [],
      "metadata": {
        "id": "1T4FKa8B7X_o"
      },
      "execution_count": null,
      "outputs": []
    },
    {
      "cell_type": "code",
      "source": [],
      "metadata": {
        "id": "-WwCshDR7YCx"
      },
      "execution_count": null,
      "outputs": []
    }
  ]
}