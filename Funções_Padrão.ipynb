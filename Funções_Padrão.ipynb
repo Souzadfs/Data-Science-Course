{
  "nbformat": 4,
  "nbformat_minor": 0,
  "metadata": {
    "colab": {
      "private_outputs": true,
      "provenance": [],
      "authorship_tag": "ABX9TyNswylyHKSoHdOB2KZzy0Ff",
      "include_colab_link": true
    },
    "kernelspec": {
      "name": "python3",
      "display_name": "Python 3"
    },
    "language_info": {
      "name": "python"
    }
  },
  "cells": [
    {
      "cell_type": "markdown",
      "metadata": {
        "id": "view-in-github",
        "colab_type": "text"
      },
      "source": [
        "<a href=\"https://colab.research.google.com/github/Souzadfs/Data-Science-Course/blob/main/Fun%C3%A7%C3%B5es_Padr%C3%A3o.ipynb\" target=\"_parent\"><img src=\"https://colab.research.google.com/assets/colab-badge.svg\" alt=\"Open In Colab\"/></a>"
      ]
    },
    {
      "cell_type": "code",
      "execution_count": null,
      "metadata": {
        "id": "OJQv2rf9kEei"
      },
      "outputs": [],
      "source": [
        "print(abs(-200))\n",
        "list = [1,2,3,45,45,56,78]\n",
        "print(\"Maior valor:\",max(list))\n",
        "print(\"Menor Valor:\", min(list))\n",
        "print(\"soma dos Valores:\", sum(list))\n",
        "media = sum(list)/len(list)\n",
        "print(media)\n",
        "print(round(media,2))"
      ]
    },
    {
      "cell_type": "code",
      "source": [
        "import statistics\n",
        "print(statistics.mean(list))\n",
        "print(statistics.median(list))\n",
        "print(statistics.mode(list))\n",
        "print(statistics.stdev(list))\n",
        "print(statistics.variance(list))"
      ],
      "metadata": {
        "id": "oLUxa4prkRM1"
      },
      "execution_count": null,
      "outputs": []
    },
    {
      "cell_type": "code",
      "source": [
        "from numpy import *\n",
        "a = random.random((8,8))\n",
        "print(a)"
      ],
      "metadata": {
        "id": "gS4P1hDLoCsJ"
      },
      "execution_count": null,
      "outputs": []
    }
  ]
}